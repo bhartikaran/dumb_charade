{
 "cells": [
  {
   "cell_type": "code",
   "execution_count": 1,
   "id": "38be05cc",
   "metadata": {},
   "outputs": [],
   "source": [
    "import requests\n",
    "from bs4 import BeautifulSoup\n",
    "import re"
   ]
  },
  {
   "cell_type": "code",
   "execution_count": 2,
   "id": "da7db68c",
   "metadata": {},
   "outputs": [],
   "source": [
    "def fetch_movie_name(year):\n",
    "    # Define the URL\n",
    "    url = 'https://en.wikipedia.org/wiki/List_of_Hindi_films_of_' + year\n",
    "    movies = []\n",
    "    try:\n",
    "        # Make a GET request to the URL\n",
    "        page = requests.get(url, timeout=5)\n",
    "        page.raise_for_status()  # Check if the request was successful\n",
    "\n",
    "        # Parse the page content using BeautifulSoup with the correct parser\n",
    "        response = requests.get(url)\n",
    "        html = response.text\n",
    "        soup = BeautifulSoup(html, 'html.parser')\n",
    "        # Step 3: Locate the content inside the 'mw-body-content' section\n",
    "        content_section = soup.find('div', {'id': 'mw-content-text'})\n",
    "        tables = content_section.find_all('table', {'class': \"wikitable\"})\n",
    "\n",
    "        \n",
    "        for t in tables:\n",
    "            rows = t.find_all('tr')\n",
    "            for i in range(1,len(rows)):\n",
    "                columns = rows[i].find_all('td')\n",
    "                # Loop through the columns and extract the first 'title' text\n",
    "                for col in columns:\n",
    "                    # Check if there's an <a> tag with a 'title' attribute\n",
    "                    link = col.find('a', title=True)\n",
    "                    if link:\n",
    "                        title_text = link['title']  # Extract the 'title' attribute\n",
    "                        movies.append(title_text)\n",
    "                        break\n",
    "        return movies\n",
    "    except:\n",
    "        print(f'could not find for {url[-4:]}')\n",
    "        return movies"
   ]
  },
  {
   "cell_type": "code",
   "execution_count": 27,
   "id": "4a4eb88d",
   "metadata": {
    "scrolled": true
   },
   "outputs": [],
   "source": [
    "all_movies = []\n",
    "for year in range(2000,2025):\n",
    "    all_movies = all_movies + fetch_movie_name(str(year))\n",
    "all_movies = list(set(all_movies))"
   ]
  },
  {
   "cell_type": "code",
   "execution_count": 351,
   "id": "d2cc114a",
   "metadata": {},
   "outputs": [
    {
     "name": "stdout",
     "output_type": "stream",
     "text": [
      "List saved to movies.csv\n"
     ]
    }
   ],
   "source": [
    "import csv\n",
    "\n",
    "# Save the list to a CSV file\n",
    "with open(\"movies.csv\", mode=\"w\", newline=\"\",encoding=\"utf-8\") as file:\n",
    "    writer = csv.writer(file)\n",
    "    \n",
    "    # Write each element of the list as a row\n",
    "    for item in all_movies:\n",
    "        writer.writerow([item])\n",
    "\n",
    "print(\"List saved to movies.csv\")"
   ]
  },
  {
   "cell_type": "code",
   "execution_count": 5,
   "id": "c36ba683",
   "metadata": {},
   "outputs": [],
   "source": [
    "import random\n",
    "# Function to return a random movie\n",
    "def get_random_movie(movie_set=all_movies):\n",
    "    \"\"\"\n",
    "    Returns a random movie from the provided set.\n",
    "    \"\"\"\n",
    "    if not movie_set:  # Check if the set is empty\n",
    "        return \"No movies available!\"\n",
    "    return random.choice(list(movie_set))"
   ]
  },
  {
   "cell_type": "code",
   "execution_count": 25,
   "id": "56150b49",
   "metadata": {},
   "outputs": [],
   "source": [
    "# Read CSV into a Python list\n",
    "with open(\"movies.csv\", mode=\"r\", encoding=\"utf-8\") as file:\n",
    "    reader = csv.reader(file)\n",
    "    all_movies = [row[0] for row in reader]"
   ]
  },
  {
   "cell_type": "code",
   "execution_count": null,
   "id": "c37c3e63",
   "metadata": {},
   "outputs": [],
   "source": []
  },
  {
   "cell_type": "code",
   "execution_count": null,
   "id": "e60abeac",
   "metadata": {},
   "outputs": [],
   "source": []
  },
  {
   "cell_type": "code",
   "execution_count": null,
   "id": "ab8c8a98",
   "metadata": {},
   "outputs": [],
   "source": []
  },
  {
   "cell_type": "code",
   "execution_count": null,
   "id": "cacba31b",
   "metadata": {},
   "outputs": [],
   "source": []
  },
  {
   "cell_type": "code",
   "execution_count": null,
   "id": "27cd2c8a",
   "metadata": {},
   "outputs": [],
   "source": []
  },
  {
   "cell_type": "code",
   "execution_count": null,
   "id": "320d02b0",
   "metadata": {},
   "outputs": [],
   "source": []
  },
  {
   "cell_type": "code",
   "execution_count": null,
   "id": "a2545d60",
   "metadata": {},
   "outputs": [],
   "source": []
  },
  {
   "cell_type": "code",
   "execution_count": null,
   "id": "d1da0995",
   "metadata": {},
   "outputs": [],
   "source": []
  },
  {
   "cell_type": "code",
   "execution_count": null,
   "id": "1059e08c",
   "metadata": {},
   "outputs": [],
   "source": []
  },
  {
   "cell_type": "code",
   "execution_count": null,
   "id": "2501e904",
   "metadata": {},
   "outputs": [],
   "source": []
  },
  {
   "cell_type": "code",
   "execution_count": null,
   "id": "3e1ea31b",
   "metadata": {},
   "outputs": [],
   "source": []
  },
  {
   "cell_type": "code",
   "execution_count": null,
   "id": "c5d91c7a",
   "metadata": {},
   "outputs": [],
   "source": []
  },
  {
   "cell_type": "code",
   "execution_count": null,
   "id": "f0f97510",
   "metadata": {},
   "outputs": [],
   "source": []
  },
  {
   "cell_type": "code",
   "execution_count": 350,
   "id": "040f6d5e",
   "metadata": {},
   "outputs": [
    {
     "data": {
      "text/plain": [
       "'Soni (film)'"
      ]
     },
     "execution_count": 350,
     "metadata": {},
     "output_type": "execute_result"
    }
   ],
   "source": [
    "get_random_movie()"
   ]
  }
 ],
 "metadata": {
  "kernelspec": {
   "display_name": "Python 3 (ipykernel)",
   "language": "python",
   "name": "python3"
  },
  "language_info": {
   "codemirror_mode": {
    "name": "ipython",
    "version": 3
   },
   "file_extension": ".py",
   "mimetype": "text/x-python",
   "name": "python",
   "nbconvert_exporter": "python",
   "pygments_lexer": "ipython3",
   "version": "3.11.1"
  }
 },
 "nbformat": 4,
 "nbformat_minor": 5
}
